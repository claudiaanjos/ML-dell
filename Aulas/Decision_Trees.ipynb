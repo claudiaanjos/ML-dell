{
  "nbformat": 4,
  "nbformat_minor": 0,
  "metadata": {
    "colab": {
      "name": "Decision Trees.ipynb",
      "provenance": []
    },
    "kernelspec": {
      "name": "python3",
      "display_name": "Python 3"
    },
    "language_info": {
      "name": "python"
    }
  },
  "cells": [
    {
      "cell_type": "markdown",
      "source": [
        "#Introdução as árvores de decisão"
      ],
      "metadata": {
        "id": "ROFQuW7P-ILH"
      }
    },
    {
      "cell_type": "markdown",
      "source": [
        "Conjunto de regras \"se-então\" utilizadas para regressão e classificação."
      ],
      "metadata": {
        "id": "eTKT9myS-Nih"
      }
    },
    {
      "cell_type": "markdown",
      "source": [
        "Como obter a árvore a partir dos dados?\n",
        "\n",
        "- Utiliza-se um índice de impureza do resultado de uma divisão.\n",
        "- Vários índices podem ser utilizados (gini, entropia...).\n",
        "\n",
        "Gini: índice de impureza e padrão da sklearn.\n",
        "\n",
        "Calculado por 1 menos o somatório da divisão dos dados ao quadrado para cada classe.\n",
        "Quanto mais próximo de zero melhor.\n"
      ],
      "metadata": {
        "id": "q8JKSqn1-Qq_"
      }
    },
    {
      "cell_type": "code",
      "source": [
        "from sklearn.tree import DecisionTreeClassifier, DecisionTreeRegressor\n",
        "from sklearn.datasets import load_boston, load_iris\n",
        "from sklearn.model_selection import train_test_split"
      ],
      "metadata": {
        "id": "Xurg4xyl-bBZ"
      },
      "execution_count": 1,
      "outputs": []
    },
    {
      "cell_type": "code",
      "source": [
        "dt = DecisionTreeClassifier()"
      ],
      "metadata": {
        "id": "8hGOTKsV-dyJ"
      },
      "execution_count": 2,
      "outputs": []
    },
    {
      "cell_type": "code",
      "source": [
        "X,y = load_iris(return_X_y=True)\n",
        "X_train, X_test, y_train, y_test = train_test_split(X,y)"
      ],
      "metadata": {
        "id": "cCbLT1_I-gZf"
      },
      "execution_count": 3,
      "outputs": []
    },
    {
      "cell_type": "code",
      "source": [
        "dt.fit(X_train,y_train)"
      ],
      "metadata": {
        "colab": {
          "base_uri": "https://localhost:8080/"
        },
        "id": "enGeVhLt-idy",
        "outputId": "753786ba-1bc4-4a47-e0c6-ca2a99aa5f19"
      },
      "execution_count": 4,
      "outputs": [
        {
          "output_type": "execute_result",
          "data": {
            "text/plain": [
              "DecisionTreeClassifier()"
            ]
          },
          "metadata": {},
          "execution_count": 4
        }
      ]
    },
    {
      "cell_type": "code",
      "source": [
        "dt.score(X_test,y_test) #92% de acerto (Classificação)"
      ],
      "metadata": {
        "colab": {
          "base_uri": "https://localhost:8080/"
        },
        "id": "TM2Uv7oB-kdk",
        "outputId": "206beee5-d173-49ad-af99-87bcae80baf9"
      },
      "execution_count": 5,
      "outputs": [
        {
          "output_type": "execute_result",
          "data": {
            "text/plain": [
              "0.9210526315789473"
            ]
          },
          "metadata": {},
          "execution_count": 5
        }
      ]
    },
    {
      "cell_type": "code",
      "source": [
        "dt = DecisionTreeRegressor()"
      ],
      "metadata": {
        "id": "c7CiRAuw-mvp"
      },
      "execution_count": 6,
      "outputs": []
    },
    {
      "cell_type": "code",
      "source": [
        "X,y = load_boston(return_X_y=True)"
      ],
      "metadata": {
        "colab": {
          "base_uri": "https://localhost:8080/"
        },
        "id": "5G5dKJCg-pFW",
        "outputId": "79e0d171-c69c-439b-c7ec-7be2d54f3dae"
      },
      "execution_count": 7,
      "outputs": [
        {
          "output_type": "stream",
          "name": "stderr",
          "text": [
            "/usr/local/lib/python3.7/dist-packages/sklearn/utils/deprecation.py:87: FutureWarning: Function load_boston is deprecated; `load_boston` is deprecated in 1.0 and will be removed in 1.2.\n",
            "\n",
            "    The Boston housing prices dataset has an ethical problem. You can refer to\n",
            "    the documentation of this function for further details.\n",
            "\n",
            "    The scikit-learn maintainers therefore strongly discourage the use of this\n",
            "    dataset unless the purpose of the code is to study and educate about\n",
            "    ethical issues in data science and machine learning.\n",
            "\n",
            "    In this special case, you can fetch the dataset from the original\n",
            "    source::\n",
            "\n",
            "        import pandas as pd\n",
            "        import numpy as np\n",
            "\n",
            "\n",
            "        data_url = \"http://lib.stat.cmu.edu/datasets/boston\"\n",
            "        raw_df = pd.read_csv(data_url, sep=\"\\s+\", skiprows=22, header=None)\n",
            "        data = np.hstack([raw_df.values[::2, :], raw_df.values[1::2, :2]])\n",
            "        target = raw_df.values[1::2, 2]\n",
            "\n",
            "    Alternative datasets include the California housing dataset (i.e.\n",
            "    :func:`~sklearn.datasets.fetch_california_housing`) and the Ames housing\n",
            "    dataset. You can load the datasets as follows::\n",
            "\n",
            "        from sklearn.datasets import fetch_california_housing\n",
            "        housing = fetch_california_housing()\n",
            "\n",
            "    for the California housing dataset and::\n",
            "\n",
            "        from sklearn.datasets import fetch_openml\n",
            "        housing = fetch_openml(name=\"house_prices\", as_frame=True)\n",
            "\n",
            "    for the Ames housing dataset.\n",
            "    \n",
            "  warnings.warn(msg, category=FutureWarning)\n"
          ]
        }
      ]
    },
    {
      "cell_type": "code",
      "source": [
        "X_train, X_test, y_train, y_test = train_test_split(X,y)"
      ],
      "metadata": {
        "id": "DD35qZJa-qs2"
      },
      "execution_count": 8,
      "outputs": []
    },
    {
      "cell_type": "code",
      "source": [
        "dt.fit(X_train,y_train)"
      ],
      "metadata": {
        "colab": {
          "base_uri": "https://localhost:8080/"
        },
        "id": "tWXI-oBs-spw",
        "outputId": "b57c2f46-44fc-42f0-85b0-7368b287d9f7"
      },
      "execution_count": 9,
      "outputs": [
        {
          "output_type": "execute_result",
          "data": {
            "text/plain": [
              "DecisionTreeRegressor()"
            ]
          },
          "metadata": {},
          "execution_count": 9
        }
      ]
    },
    {
      "cell_type": "code",
      "source": [
        "dt.score(X_test,y_test) #Regressão"
      ],
      "metadata": {
        "colab": {
          "base_uri": "https://localhost:8080/"
        },
        "id": "Ss24wBOn-uKf",
        "outputId": "0d17fdc5-d588-4745-fbfb-738e014c1ca0"
      },
      "execution_count": 10,
      "outputs": [
        {
          "output_type": "execute_result",
          "data": {
            "text/plain": [
              "0.5675574854830485"
            ]
          },
          "metadata": {},
          "execution_count": 10
        }
      ]
    },
    {
      "cell_type": "markdown",
      "source": [
        "A árvore de decisão por natureza possui um alto índice de overfit. Uma vez que tentamos separar o conjunto de treino perfeitamente, temos o overfit.\n",
        "\n",
        "Ela aprende a classificar o conjunto de dados, mas não generaliza para outros conjuntos.\n",
        "\n",
        "Para ajustar isso, regulamos a altura da árvore (altura menor). Faremos as divisões até certo ponto.\n",
        "\n",
        "Vamos \"podar\" a árvore, evitar que tenha tantos nós, usando um limitador da quantidade de regras que serão feitas.\n",
        "\n",
        "Reaplicar o modelo utilizando o max_depth: profundidade máxima com a altura máxima da árvore (quanto menor, menos divisões)."
      ],
      "metadata": {
        "id": "UrCi93WtA8TU"
      }
    },
    {
      "cell_type": "code",
      "source": [
        "dt = DecisionTreeClassifier(max_depth=3)"
      ],
      "metadata": {
        "id": "Wd2yJOpu-wj_"
      },
      "execution_count": 11,
      "outputs": []
    },
    {
      "cell_type": "code",
      "source": [
        "X,y = load_iris(return_X_y=True)"
      ],
      "metadata": {
        "id": "1IToVQcO-yhI"
      },
      "execution_count": 12,
      "outputs": []
    },
    {
      "cell_type": "code",
      "source": [
        "X_train, X_test, y_train, y_test = train_test_split(X,y)"
      ],
      "metadata": {
        "id": "chH7uaZh-0Ux"
      },
      "execution_count": 13,
      "outputs": []
    },
    {
      "cell_type": "code",
      "source": [
        "dt.fit(X_train,y_train)"
      ],
      "metadata": {
        "colab": {
          "base_uri": "https://localhost:8080/"
        },
        "id": "3rtQUTld-1zs",
        "outputId": "8587bcf5-3dcf-4b81-e973-0557bf1eb4d5"
      },
      "execution_count": 14,
      "outputs": [
        {
          "output_type": "execute_result",
          "data": {
            "text/plain": [
              "DecisionTreeClassifier(max_depth=3)"
            ]
          },
          "metadata": {},
          "execution_count": 14
        }
      ]
    },
    {
      "cell_type": "code",
      "source": [
        "dt.score(X_test,y_test)"
      ],
      "metadata": {
        "colab": {
          "base_uri": "https://localhost:8080/"
        },
        "id": "A2-ERQtQ-4rg",
        "outputId": "623ab8f9-6478-4eda-ef8e-357bbea925b4"
      },
      "execution_count": 15,
      "outputs": [
        {
          "output_type": "execute_result",
          "data": {
            "text/plain": [
              "0.8947368421052632"
            ]
          },
          "metadata": {},
          "execution_count": 15
        }
      ]
    },
    {
      "cell_type": "markdown",
      "source": [
        "#Selecionando features com árvores de decisão"
      ],
      "metadata": {
        "id": "nYb0fy4oCjvt"
      }
    },
    {
      "cell_type": "code",
      "source": [
        "from sklearn.tree import DecisionTreeClassifier\n",
        "from sklearn.datasets import load_breast_cancer"
      ],
      "metadata": {
        "id": "1V9VjE2o-6wi"
      },
      "execution_count": 16,
      "outputs": []
    },
    {
      "cell_type": "code",
      "source": [
        "dt = DecisionTreeClassifier()"
      ],
      "metadata": {
        "id": "yZRFgWwx-8nf"
      },
      "execution_count": 17,
      "outputs": []
    },
    {
      "cell_type": "code",
      "source": [
        "X,y = load_breast_cancer(return_X_y=True)"
      ],
      "metadata": {
        "id": "JtZPwiMP--wA"
      },
      "execution_count": 18,
      "outputs": []
    },
    {
      "cell_type": "code",
      "source": [
        "dt.fit(X,y)"
      ],
      "metadata": {
        "colab": {
          "base_uri": "https://localhost:8080/"
        },
        "id": "dzY21DrA_Ai7",
        "outputId": "c7a9811e-17dd-4fa9-f7ee-299c2a9823b4"
      },
      "execution_count": 19,
      "outputs": [
        {
          "output_type": "execute_result",
          "data": {
            "text/plain": [
              "DecisionTreeClassifier()"
            ]
          },
          "metadata": {},
          "execution_count": 19
        }
      ]
    },
    {
      "cell_type": "code",
      "source": [
        "X.shape #569 dados/elementos e 30 colunas"
      ],
      "metadata": {
        "colab": {
          "base_uri": "https://localhost:8080/"
        },
        "id": "IYe_hn3F_CHK",
        "outputId": "2520bac6-1808-45e0-9ff3-5ddbbc1172fb"
      },
      "execution_count": 20,
      "outputs": [
        {
          "output_type": "execute_result",
          "data": {
            "text/plain": [
              "(569, 30)"
            ]
          },
          "metadata": {},
          "execution_count": 20
        }
      ]
    },
    {
      "cell_type": "markdown",
      "source": [
        "30 colunas - alguns modelos não tem bons resultados com muitas colunas.\n",
        "\n",
        "Verificar as importâncias das features:"
      ],
      "metadata": {
        "id": "b2EZI34kDNbT"
      }
    },
    {
      "cell_type": "code",
      "source": [
        "dt.feature_importances_"
      ],
      "metadata": {
        "colab": {
          "base_uri": "https://localhost:8080/"
        },
        "id": "nccV0BhC_EUx",
        "outputId": "ff2fa75d-4040-42c3-f58c-6f1895539120"
      },
      "execution_count": 21,
      "outputs": [
        {
          "output_type": "execute_result",
          "data": {
            "text/plain": [
              "array([0.        , 0.01127715, 0.        , 0.        , 0.00701689,\n",
              "       0.00563858, 0.        , 0.00877112, 0.        , 0.        ,\n",
              "       0.        , 0.        , 0.        , 0.00204521, 0.00100384,\n",
              "       0.03873296, 0.        , 0.00563858, 0.        , 0.        ,\n",
              "       0.69559352, 0.07728413, 0.        , 0.0110859 , 0.00738798,\n",
              "       0.        , 0.00766716, 0.11354097, 0.007316  , 0.        ])"
            ]
          },
          "metadata": {},
          "execution_count": 21
        }
      ]
    },
    {
      "cell_type": "markdown",
      "source": [
        "Temos um conjunto de 30 elementos em que cada um deles tem o resultado da importância dos atributos para o modelo.\n",
        "\n",
        "Podemos eliminar aqueles que tem baixa importância."
      ],
      "metadata": {
        "id": "VVwao0cXDVbF"
      }
    }
  ]
}